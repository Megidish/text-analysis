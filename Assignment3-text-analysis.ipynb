{
 "cells": [
  {
   "cell_type": "markdown",
   "metadata": {},
   "source": [
    "# Assignment 3 - Text Analysis\n",
    "An explanation this assignment could be found in the .pdf explanation document"
   ]
  },
  {
   "cell_type": "markdown",
   "metadata": {},
   "source": [
    "\n",
    "## Materials to review for this assignment\n",
    "<h4>From Moodle:</h4> \n",
    "<h5><u>Review the notebooks regarding the following python topics</u>:</h5>\n",
    "<div class=\"alert alert-info\">\n",
    "&#x2714; <b>Working with strings</b> (tutorial notebook)<br/>\n",
    "&#x2714; <b>Text Analysis</b> (tutorial notebook)<br/>\n",
    "&#x2714; <b>Hebrew text analysis tools (tokenizer, wordnet)</b> (moodle example)<br/>\n",
    "&#x2714; <b>(brief review) All previous notebooks</b><br/>\n",
    "</div> \n",
    "<h5><u>Review the presentations regarding the following topics</u>:</h5>\n",
    "<div class=\"alert alert-info\">\n",
    "&#x2714; <b>Text Analysis</b> (lecture presentation)<br/>\n",
    "&#x2714; <b>(brief review) All other presentations</b><br/>\n",
    "</div>"
   ]
  },
  {
   "cell_type": "markdown",
   "metadata": {},
   "source": [
    "## Personal Details:"
   ]
  },
  {
   "cell_type": "code",
   "execution_count": 41,
   "metadata": {},
   "outputs": [],
   "source": [
    "# Details Student 1:\n",
    "student1_name= \"Roy Megidish\"\n",
    "student1_id= \"209277458\"\n",
    "student1_mail= \"roeimegidish@gmail.com\"\n",
    "# Details Student 2:\n",
    "student2_name= \"Ori Elish\"\n",
    "student1_id= \"315113886\"\n",
    "student1_mail= \"orielish4@gmail.com\""
   ]
  },
  {
   "cell_type": "markdown",
   "metadata": {},
   "source": [
    "## Preceding Step - import modules (packages)\n",
    "This step is necessary in order to use external modules (packages). <br/>"
   ]
  },
  {
   "cell_type": "code",
   "execution_count": 72,
   "metadata": {},
   "outputs": [],
   "source": [
    "# --------------------------------------\n",
    "import pandas as pd\n",
    "import numpy as np\n",
    "# --------------------------------------\n",
    "\n",
    "\n",
    "# --------------------------------------\n",
    "# ------------- visualizations:\n",
    "import seaborn as sns\n",
    "import matplotlib.pyplot as plt\n",
    "from matplotlib.colors import ListedColormap\n",
    "# --------------------------------------\n",
    "\n",
    "\n",
    "# ---------------------------------------\n",
    "import sklearn\n",
    "from sklearn import preprocessing, metrics, pipeline, model_selection, feature_extraction \n",
    "from sklearn import naive_bayes, linear_model, svm, neural_network, neighbors, tree\n",
    "from sklearn import decomposition, cluster\n",
    "\n",
    "from sklearn.model_selection import train_test_split, cross_val_score, GridSearchCV \n",
    "from sklearn.pipeline import Pipeline\n",
    "from sklearn.metrics import accuracy_score, confusion_matrix\n",
    "from sklearn.metrics import precision_score, recall_score, f1_score\n",
    "from sklearn.metrics import mean_squared_error, r2_score, silhouette_score\n",
    "from sklearn.preprocessing import MinMaxScaler, StandardScaler, LabelEncoder\n",
    "\n",
    "from sklearn.svm import LinearSVC\n",
    "from sklearn.neural_network import MLPClassifier\n",
    "from sklearn.linear_model import Perceptron, SGDClassifier\n",
    "from sklearn.decomposition import PCA\n",
    "from sklearn.cluster import KMeans\n",
    "from sklearn.naive_bayes import MultinomialNB, GaussianNB\n",
    "from sklearn.neighbors import KNeighborsClassifier\n",
    "from sklearn.tree import DecisionTreeClassifier\n",
    "# ---------------------------------------\n",
    "\n",
    "\n",
    "# ----------------- output and visualizations: \n",
    "import warnings\n",
    "from sklearn.exceptions import ConvergenceWarning\n",
    "warnings.simplefilter(\"ignore\")\n",
    "warnings.simplefilter(action='ignore', category=FutureWarning)\n",
    "warnings.simplefilter(\"ignore\", category=ConvergenceWarning)\n",
    "# show several prints in one cell. This will allow us to condence every trick in one cell.\n",
    "from IPython.core.interactiveshell import InteractiveShell\n",
    "InteractiveShell.ast_node_interactivity = \"all\"\n",
    "%matplotlib inline\n",
    "pd.pandas.set_option('display.max_columns', None)\n",
    "pd.set_option('display.float_format', lambda x: '%.3f' % x)\n",
    "# ---------------------------------------"
   ]
  },
  {
   "cell_type": "markdown",
   "metadata": {},
   "source": [
    "### Text analysis and String manipulation imports:"
   ]
  },
  {
   "cell_type": "code",
   "execution_count": 73,
   "metadata": {},
   "outputs": [],
   "source": [
    "# --------------------------------------\n",
    "# --------- Text analysis and Hebrew text analysis imports:\n",
    "# vectorizers:\n",
    "from sklearn.feature_extraction import text\n",
    "from sklearn.feature_extraction.text import CountVectorizer, TfidfVectorizer\n",
    "\n",
    "# regular expressions:\n",
    "import re\n",
    "# --------------------------------------"
   ]
  },
  {
   "cell_type": "markdown",
   "metadata": {},
   "source": [
    "### (optional) Hebrew text analysis - WordNet (for Hebrew)\n",
    "Note: the WordNet is not a must"
   ]
  },
  {
   "cell_type": "markdown",
   "metadata": {},
   "source": [
    "#### (optional) Only if you didn't install Wordnet (for Hebrew) use:"
   ]
  },
  {
   "cell_type": "code",
   "execution_count": 74,
   "metadata": {},
   "outputs": [],
   "source": [
    "# word net installation:\n",
    "\n",
    "# unmark if you want to use and need to install\n",
    "# !pip install wn\n",
    "# !python -m wn download omw-he:1.4"
   ]
  },
  {
   "cell_type": "code",
   "execution_count": 75,
   "metadata": {},
   "outputs": [],
   "source": [
    "# word net import:\n",
    "\n",
    "# unmark if you want to use:\n",
    "# import wn"
   ]
  },
  {
   "cell_type": "markdown",
   "metadata": {},
   "source": [
    "### (optional) Hebrew text analysis - hebrew_tokenizer (Tokenizer for Hebrew)\n",
    "Note: the hebrew_tokenizer is not a must"
   ]
  },
  {
   "cell_type": "markdown",
   "metadata": {},
   "source": [
    "#### (optional) Only if you didn't install hebrew_tokenizer use:"
   ]
  },
  {
   "cell_type": "code",
   "execution_count": 76,
   "metadata": {},
   "outputs": [],
   "source": [
    "# Hebrew tokenizer installation:\n",
    "\n",
    "# unmark if you want to use and need to install:\n",
    "# !pip install hebrew_tokenizer"
   ]
  },
  {
   "cell_type": "code",
   "execution_count": 77,
   "metadata": {},
   "outputs": [],
   "source": [
    "# Hebrew tokenizer import:\n",
    "\n",
    "# unmark if you want to use:\n",
    "# import hebrew_tokenizer as ht"
   ]
  },
  {
   "cell_type": "markdown",
   "metadata": {},
   "source": [
    "### Reading input files\n",
    "Reading input files for train annotated corpus (raw text data) corpus and for the test corpus"
   ]
  },
  {
   "cell_type": "code",
   "execution_count": 78,
   "metadata": {},
   "outputs": [],
   "source": [
    "train_filename = 'annotated_corpus_for_train.csv'\n",
    "test_filename  = 'corpus_for_test.csv'\n",
    "df_train = pd.read_csv(train_filename, index_col=None, encoding='utf-8')\n",
    "df_test  = pd.read_csv(test_filename, index_col=None, encoding='utf-8')"
   ]
  },
  {
   "cell_type": "code",
   "execution_count": 79,
   "metadata": {},
   "outputs": [
    {
     "data": {
      "text/html": [
       "<div>\n",
       "<style scoped>\n",
       "    .dataframe tbody tr th:only-of-type {\n",
       "        vertical-align: middle;\n",
       "    }\n",
       "\n",
       "    .dataframe tbody tr th {\n",
       "        vertical-align: top;\n",
       "    }\n",
       "\n",
       "    .dataframe thead th {\n",
       "        text-align: right;\n",
       "    }\n",
       "</style>\n",
       "<table border=\"1\" class=\"dataframe\">\n",
       "  <thead>\n",
       "    <tr style=\"text-align: right;\">\n",
       "      <th></th>\n",
       "      <th>story</th>\n",
       "      <th>gender</th>\n",
       "    </tr>\n",
       "  </thead>\n",
       "  <tbody>\n",
       "    <tr>\n",
       "      <th>0</th>\n",
       "      <td>כשחבר הזמין אותי לחול, לא באמת חשבתי שזה יקרה,...</td>\n",
       "      <td>m</td>\n",
       "    </tr>\n",
       "    <tr>\n",
       "      <th>1</th>\n",
       "      <td>לפני שהתגייסתי לצבא עשיתי כל מני מיונים ליחידו...</td>\n",
       "      <td>m</td>\n",
       "    </tr>\n",
       "    <tr>\n",
       "      <th>2</th>\n",
       "      <td>מאז שהתחילו הלימודים חלומו של כל סטודנט זה הפנ...</td>\n",
       "      <td>f</td>\n",
       "    </tr>\n",
       "    <tr>\n",
       "      <th>3</th>\n",
       "      <td>כשהייתי ילד, מטוסים היה הדבר שהכי ריתק אותי. ב...</td>\n",
       "      <td>m</td>\n",
       "    </tr>\n",
       "    <tr>\n",
       "      <th>4</th>\n",
       "      <td>‏הייתי מדריכה בכפר נוער ומתאם הכפר היינו צריכי...</td>\n",
       "      <td>f</td>\n",
       "    </tr>\n",
       "    <tr>\n",
       "      <th>5</th>\n",
       "      <td>לפני כ3 חודשים טסתי לרומא למשך שבוע. טסתי במטו...</td>\n",
       "      <td>f</td>\n",
       "    </tr>\n",
       "    <tr>\n",
       "      <th>6</th>\n",
       "      <td>אני כבר שנתיים נשוי והשנה אני ואישתי סוף סוף י...</td>\n",
       "      <td>m</td>\n",
       "    </tr>\n",
       "    <tr>\n",
       "      <th>7</th>\n",
       "      <td>השנה התחלנו שיפוץ בדירה שלנו בתל אביב. הדירה ה...</td>\n",
       "      <td>f</td>\n",
       "    </tr>\n",
       "  </tbody>\n",
       "</table>\n",
       "</div>"
      ],
      "text/plain": [
       "                                               story gender\n",
       "0  כשחבר הזמין אותי לחול, לא באמת חשבתי שזה יקרה,...      m\n",
       "1  לפני שהתגייסתי לצבא עשיתי כל מני מיונים ליחידו...      m\n",
       "2  מאז שהתחילו הלימודים חלומו של כל סטודנט זה הפנ...      f\n",
       "3  כשהייתי ילד, מטוסים היה הדבר שהכי ריתק אותי. ב...      m\n",
       "4  ‏הייתי מדריכה בכפר נוער ומתאם הכפר היינו צריכי...      f\n",
       "5  לפני כ3 חודשים טסתי לרומא למשך שבוע. טסתי במטו...      f\n",
       "6  אני כבר שנתיים נשוי והשנה אני ואישתי סוף סוף י...      m\n",
       "7  השנה התחלנו שיפוץ בדירה שלנו בתל אביב. הדירה ה...      f"
      ]
     },
     "execution_count": 79,
     "metadata": {},
     "output_type": "execute_result"
    },
    {
     "data": {
      "text/plain": [
       "(753, 2)"
      ]
     },
     "execution_count": 79,
     "metadata": {},
     "output_type": "execute_result"
    }
   ],
   "source": [
    "df_train.head(8)\n",
    "df_train.shape"
   ]
  },
  {
   "cell_type": "code",
   "execution_count": 80,
   "metadata": {},
   "outputs": [
    {
     "data": {
      "text/html": [
       "<div>\n",
       "<style scoped>\n",
       "    .dataframe tbody tr th:only-of-type {\n",
       "        vertical-align: middle;\n",
       "    }\n",
       "\n",
       "    .dataframe tbody tr th {\n",
       "        vertical-align: top;\n",
       "    }\n",
       "\n",
       "    .dataframe thead th {\n",
       "        text-align: right;\n",
       "    }\n",
       "</style>\n",
       "<table border=\"1\" class=\"dataframe\">\n",
       "  <thead>\n",
       "    <tr style=\"text-align: right;\">\n",
       "      <th></th>\n",
       "      <th>test_example_id</th>\n",
       "      <th>story</th>\n",
       "    </tr>\n",
       "  </thead>\n",
       "  <tbody>\n",
       "    <tr>\n",
       "      <th>0</th>\n",
       "      <td>0</td>\n",
       "      <td>כל קיץ אני והמשפחה נוסעים לארצות הברית לוס אנג...</td>\n",
       "    </tr>\n",
       "    <tr>\n",
       "      <th>1</th>\n",
       "      <td>1</td>\n",
       "      <td>הגעתי לשירות המדינה אחרי שנתיים כפעיל בתנועת \"...</td>\n",
       "    </tr>\n",
       "    <tr>\n",
       "      <th>2</th>\n",
       "      <td>2</td>\n",
       "      <td>אחת האהבות הגדולות שלי אלו הכלבים שלי ושל אישת...</td>\n",
       "    </tr>\n",
       "  </tbody>\n",
       "</table>\n",
       "</div>"
      ],
      "text/plain": [
       "   test_example_id                                              story\n",
       "0                0  כל קיץ אני והמשפחה נוסעים לארצות הברית לוס אנג...\n",
       "1                1  הגעתי לשירות המדינה אחרי שנתיים כפעיל בתנועת \"...\n",
       "2                2  אחת האהבות הגדולות שלי אלו הכלבים שלי ושל אישת..."
      ]
     },
     "execution_count": 80,
     "metadata": {},
     "output_type": "execute_result"
    },
    {
     "data": {
      "text/plain": [
       "(323, 2)"
      ]
     },
     "execution_count": 80,
     "metadata": {},
     "output_type": "execute_result"
    }
   ],
   "source": [
    "df_test.head(3)\n",
    "df_test.shape"
   ]
  },
  {
   "cell_type": "markdown",
   "metadata": {},
   "source": [
    "### Your implementation:\n",
    "Write your code solution in the following code-cells"
   ]
  },
  {
   "cell_type": "code",
   "execution_count": 81,
   "metadata": {},
   "outputs": [],
   "source": [
    "# Set interactive shell options\n",
    "InteractiveShell.ast_node_interactivity = \"all\""
   ]
  },
  {
   "cell_type": "code",
   "execution_count": 82,
   "metadata": {},
   "outputs": [],
   "source": [
    "# Method that removes non-character elements from a string\n",
    "# Input: s (string) - the input string containing characters, numbers, and symbols\n",
    "# Output: str (string) - the cleaned string with non-character elements removed\n",
    "def remove_non_chars(s):\n",
    "    # Remove numbers from the string\n",
    "    s = re.sub(r'\\d+', '', s)\n",
    "    # Remove non-alphanumeric and non-space characters (punctuation marks and symbols)\n",
    "    s = re.sub(r'[^\\w\\s]', '', s)\n",
    "    # Replace multiple consecutive spaces with a single space\n",
    "    s = re.sub(r'\\s+', ' ', s)\n",
    "    # Remove trailing spaces from the string\n",
    "    s = s.strip()\n",
    "    return s\n"
   ]
  },
  {
   "cell_type": "code",
   "execution_count": 83,
   "metadata": {},
   "outputs": [],
   "source": [
    "# Method that applies preprocessing to the 'story' column of a DataFrame\n",
    "# Input: df (pd.DataFrame) - input DataFrame containing 'story' column\n",
    "# Output: None (modifies the input DataFrame in-place)\n",
    "def preprocess_data(df):\n",
    "    # Apply the remove_non_chars function to clean the 'story' column\n",
    "    df['story'] = df['story'].apply(remove_non_chars)\n"
   ]
  },
  {
   "cell_type": "code",
   "execution_count": 84,
   "metadata": {},
   "outputs": [],
   "source": [
    "# Method that displays evaluation scores for a classification model\n",
    "# Input: \n",
    "# - title (string) - the title of the model for display\n",
    "# - y_test (array-like) - true labels of the test data\n",
    "# - y_pred (array-like) - predicted labels from the model\n",
    "# - score (array-like) - cross-validation scores\n",
    "# Prints: Evaluation metrics including accuracy, F1 scores, and standard deviation\n",
    "def display_scores(title, y_test, y_pred, score):\n",
    "    \n",
    "    # Calculate F1 scores for male and female classes\n",
    "    f1_male = f1_score(y_test, y_pred, pos_label='m')\n",
    "    f1_female = f1_score(y_test, y_pred, pos_label='f')\n",
    "    f1_average = (f1_male + f1_female) / 2\n",
    "    # Display evaluation scores\n",
    "    print(f'[--- {title} Score ---]')\n",
    "    print(f'Accuracy Score: {np.mean(score):.4f} | std: {np.std(score):.4f}')\n",
    "    print(f'F1_Male Score: {f1_male:.4f}')\n",
    "    print(f'F1_Female Score: {f1_female:.4f}')\n",
    "    print(f'F1_Average Score: {f1_average:.4f}\\n')\n"
   ]
  },
  {
   "cell_type": "code",
   "execution_count": 85,
   "metadata": {},
   "outputs": [],
   "source": [
    "# Method that displays predicted gender labels along with the true gender labels for a classification model\n",
    "# Input: \n",
    "# - title (string) - the title of the model for display\n",
    "# - y_test (array-like) - true labels of the test data\n",
    "# - y_pred (array-like) - predicted labels from the model\n",
    "# Prints: Predicted gender labels for a subset of data, and a summary of predicted gender distribution\n",
    "def display_predictions(title, y_test, y_pred):\n",
    "    \n",
    "    # Create a DataFrame to hold the true and predicted gender labels\n",
    "    df_predicted = pd.DataFrame({'story': y_test, 'predicted gender': y_pred})\n",
    "    \n",
    "    # Display predicted gender labels for the top 5 examples\n",
    "    print(f'[--- {title} Predictions ---]')\n",
    "    print('<Top-5>')\n",
    "    print(df_predicted.head(5))\n",
    "    print('')\n",
    "\n",
    "    # Display predicted gender labels for the last 5 examples\n",
    "    print('<Last-5>')\n",
    "    print(df_predicted.tail(5))\n",
    "    print('')\n",
    "\n",
    "    # Display the distribution of predicted gender labels\n",
    "    print('<Total>')\n",
    "    print(df_predicted['predicted gender'].value_counts())\n",
    "    print('')\n"
   ]
  },
  {
   "cell_type": "code",
   "execution_count": 86,
   "metadata": {},
   "outputs": [],
   "source": [
    "# Load data\n",
    "train_filename = 'annotated_corpus_for_train.csv'\n",
    "test_filename  = 'corpus_for_test.csv'\n",
    "df_train = pd.read_csv(train_filename, index_col=None, encoding='utf-8')\n",
    "df_test  = pd.read_csv(test_filename, index_col=None, encoding='utf-8')\n",
    "\n",
    "# Preprocess data\n",
    "preprocess_data(df_train)\n",
    "preprocess_data(df_test)"
   ]
  },
  {
   "cell_type": "code",
   "execution_count": 87,
   "metadata": {},
   "outputs": [],
   "source": [
    "# Method that prepares training data for classification\n",
    "# Input: df (pd.DataFrame) - DataFrame containing 'story' text and 'gender' labels\n",
    "# Output: Preprocessed training and testing sets along with their corresponding gender labels\n",
    "def prepare_train_data(df: pd.DataFrame):\n",
    "    # Split the data into training and testing sets\n",
    "    X_train, X_test, y_train, y_test = train_test_split(df['story'], df['gender'], test_size=0.2, random_state=42)\n",
    "    \n",
    "    # Vectorize the text data using TF-IDF vectorization\n",
    "    vec = TfidfVectorizer(ngram_range=(1, 1), min_df=5)\n",
    "    X_train_vec = vec.fit_transform(X_train)\n",
    "    X_test_vec = vec.transform(X_test)\n",
    "    \n",
    "    # Perform feature selection using SelectKBest and mutual information scoring\n",
    "    selector = SelectKBest(mutual_info_classif, k=1000)\n",
    "    selector.fit(X_train_vec, y_train)\n",
    "    X_train_selected = selector.transform(X_train_vec)\n",
    "    X_test_selected = selector.transform(X_test_vec)\n",
    "    \n",
    "    # Scale the selected features using MinMaxScaler\n",
    "    scaler = MinMaxScaler()\n",
    "    X_train_scaled = scaler.fit_transform(X_train_selected.toarray())\n",
    "    X_test_scaled = scaler.transform(X_test_selected.toarray())\n",
    "    \n",
    "    return X_train_scaled, X_test_scaled, y_train, y_test\n"
   ]
  },
  {
   "cell_type": "code",
   "execution_count": 88,
   "metadata": {},
   "outputs": [],
   "source": [
    "# Method that prepares testing data for classification\n",
    "# Input: df (pd.DataFrame) - DataFrame containing 'story' text & y_train (np.array) - Array of gender labels\n",
    "# Output: Preprocessed testing data and corresponding TF-IDF scaled features\n",
    "def prepare_test_data(df: pd.DataFrame, y_train: np.array):\n",
    "    # Preprocess the text data in the DataFrame\n",
    "    preprocess_data(df)\n",
    "    \n",
    "    # Get the test data from the 'story' column\n",
    "    X_test = df['story']\n",
    "    \n",
    "    # Vectorize the test data using TF-IDF vectorization\n",
    "    vec = TfidfVectorizer(ngram_range=(1, 1), min_df=5)\n",
    "    X_test_vec = vec.fit_transform(X_test)\n",
    "    \n",
    "    # Perform feature selection using SelectKBest and mutual information scoring\n",
    "    selector = SelectKBest(mutual_info_classif, k=1000)\n",
    "    X_test_selected = selector.fit_transform(X_test_vec, np.zeros(X_test_vec.shape[0]))\n",
    "    \n",
    "    # Scale the selected features using MinMaxScaler\n",
    "    scaler = MinMaxScaler()\n",
    "    X_test_scaled = scaler.fit_transform(X_test_selected.toarray())\n",
    "    \n",
    "    return df['story'], X_test_scaled\n"
   ]
  },
  {
   "cell_type": "code",
   "execution_count": 89,
   "metadata": {},
   "outputs": [],
   "source": [
    "# Train the best Logistic Regression model\n",
    "# Input: X_train (numpy.array): & y_train (numpy.array).\n",
    "# Output: LogisticRegression: The trained best Logistic Regression model.\n",
    "def train_best_logistic_regression_model(X_train, y_train):\n",
    "    # Create a base Logistic Regression model\n",
    "    base_lr_model = LogisticRegression()\n",
    "    \n",
    "    # Define hyperparameters and values for grid search\n",
    "    lr_params = {'C': [0.1, 1, 10], 'penalty': ['l1', 'l2']}\n",
    "    \n",
    "    # Perform grid search using cross-validation and parallel processing\n",
    "    grid_search = GridSearchCV(base_lr_model, lr_params, cv=5, n_jobs=-1)\n",
    "    grid_search.fit(X_train, y_train)\n",
    "    \n",
    "    # Get the best hyperparameters from grid search results\n",
    "    best_params = grid_search.best_params_\n",
    "    \n",
    "    # Create a new Logistic Regression model with the best hyperparameters\n",
    "    best_lr_model = LogisticRegression(**best_params)\n",
    "    \n",
    "    # Fit the new model on the training data using the best hyperparameters\n",
    "    best_lr_model.fit(X_train, y_train)\n",
    "    \n",
    "    # Return the trained best Logistic Regression model\n",
    "    return best_lr_model\n"
   ]
  },
  {
   "cell_type": "code",
   "execution_count": 90,
   "metadata": {},
   "outputs": [],
   "source": [
    "# Trains the best Logistic Regression model using grid search.\n",
    "# Input: X_train (numpy.array) & y_train (numpy.array).\n",
    "# Output: LogisticRegression: Trained best Logistic Regression model.\n",
    "def train_best_logistic_regression_model(X_train, y_train):     \n",
    "    # Create a base Logistic Regression model\n",
    "    base_lr_model = LogisticRegression()\n",
    "\n",
    "    # Define hyperparameters to search over\n",
    "    lr_params = {'C': [0.1, 1, 10], 'penalty': ['l1', 'l2']}\n",
    "\n",
    "    # Perform grid search using cross-validation\n",
    "    grid_search = GridSearchCV(base_lr_model, lr_params, cv=5, n_jobs=-1)\n",
    "    grid_search.fit(X_train, y_train)\n",
    "\n",
    "    # Get the best hyperparameters from grid search\n",
    "    best_params = grid_search.best_params_\n",
    "\n",
    "    # Create a new Logistic Regression model with the best hyperparameters\n",
    "    best_lr_model = LogisticRegression(**best_params)\n",
    "\n",
    "    # Train the new model on the training data\n",
    "    best_lr_model.fit(X_train, y_train)\n",
    "\n",
    "    # Return the trained best Logistic Regression model\n",
    "    return best_lr_model\n"
   ]
  },
  {
   "cell_type": "code",
   "execution_count": 92,
   "metadata": {},
   "outputs": [
    {
     "name": "stdout",
     "output_type": "stream",
     "text": [
      "[--- Logistic Regression Score ---]\n",
      "Accuracy Score: 0.7593 | std: 0.0945\n",
      "F1_Male Score: 0.8790\n",
      "F1_Female Score: 0.4444\n",
      "F1_Average Score: 0.6617\n",
      "\n",
      "[--- Naive Bayes Score ---]\n",
      "Accuracy Score: 0.7482 | std: 0.0878\n",
      "F1_Male Score: 0.8816\n",
      "F1_Female Score: 0.4912\n",
      "F1_Average Score: 0.6864\n",
      "\n",
      "[--- Logistic Regression Predictions ---]\n",
      "<Top-5>\n",
      "                                               story predicted gender\n",
      "0  כל קיץ אני והמשפחה נוסעים לארצות הברית לוס אנג...                m\n",
      "1  הגעתי לשירות המדינה אחרי שנתיים כפעיל בתנועת י...                m\n",
      "2  אחת האהבות הגדולות שלי אלו הכלבים שלי ושל אישת...                m\n",
      "3  רגע הגיוס לצבא היה הרגע הכי משמעותי עבורי אני ...                f\n",
      "4  אני הגעתי לברזיל ישר מקולומביה וגם אני עשיתי ע...                m\n",
      "\n",
      "<Last-5>\n",
      "                                                 story predicted gender\n",
      "318  בשנה האחרונה הרגשתי די תקוע בעבודה השגרה הפכה ...                m\n",
      "319  אני ואילן חברים טובים מזה שנה תמיד חלמנו לפתח ...                f\n",
      "320  מידי יום שישי אני נוהג לנסוע בתחבורה ציבורית ס...                f\n",
      "321  לפני מספר חודשים בשיא התחלואה של הגל השני עמית...                m\n",
      "322  היום בו דיווחתי על גניבה של האוטו שלי בוקר אחד...                m\n",
      "\n",
      "<Total>\n",
      "m    275\n",
      "f     48\n",
      "Name: predicted gender, dtype: int64\n",
      "\n",
      "[--- Naive Bayes Predictions ---]\n",
      "<Top-5>\n",
      "                                               story predicted gender\n",
      "0  כל קיץ אני והמשפחה נוסעים לארצות הברית לוס אנג...                m\n",
      "1  הגעתי לשירות המדינה אחרי שנתיים כפעיל בתנועת י...                f\n",
      "2  אחת האהבות הגדולות שלי אלו הכלבים שלי ושל אישת...                m\n",
      "3  רגע הגיוס לצבא היה הרגע הכי משמעותי עבורי אני ...                f\n",
      "4  אני הגעתי לברזיל ישר מקולומביה וגם אני עשיתי ע...                m\n",
      "\n",
      "<Last-5>\n",
      "                                                 story predicted gender\n",
      "318  בשנה האחרונה הרגשתי די תקוע בעבודה השגרה הפכה ...                m\n",
      "319  אני ואילן חברים טובים מזה שנה תמיד חלמנו לפתח ...                f\n",
      "320  מידי יום שישי אני נוהג לנסוע בתחבורה ציבורית ס...                f\n",
      "321  לפני מספר חודשים בשיא התחלואה של הגל השני עמית...                m\n",
      "322  היום בו דיווחתי על גניבה של האוטו שלי בוקר אחד...                f\n",
      "\n",
      "<Total>\n",
      "f    178\n",
      "m    145\n",
      "Name: predicted gender, dtype: int64\n",
      "\n"
     ]
    }
   ],
   "source": [
    "# main logic\n",
    "X_train, X_test, y_train, y_test = prepare_train_data(df_train)\n",
    "LR_Model = train_best_logistic_regression_model(X_train, y_train)\n",
    "NB_Model = train_best_naive_bayes_model(X_train, y_train)\n",
    "\n",
    "cv = RepeatedKFold(n_splits=5, n_repeats=3, random_state=42)\n",
    "LR_score = cross_val_score(LR_Model, X_test, y_test, scoring='accuracy', cv=cv, n_jobs=-1)\n",
    "NB_score = cross_val_score(NB_Model, X_test, y_test, scoring='accuracy', cv=cv, n_jobs=-1)\n",
    "\n",
    "LR_y_pred = LR_Model.predict(X_test)\n",
    "NB_y_pred = NB_Model.predict(X_test)\n",
    "\n",
    "display_scores('Logistic Regression', y_test, LR_y_pred, LR_score)\n",
    "display_scores('Naive Bayes', y_test, NB_y_pred, NB_score)\n",
    "\n",
    "test_data, test_X_test = prepare_test_data(df_test, y_train)\n",
    "LR_test_y_pred = LR_Model.predict(test_X_test)\n",
    "NB_test_y_pred = NB_Model.predict(test_X_test)\n",
    "\n",
    "display_predictions('Logistic Regression', test_data, LR_test_y_pred)\n",
    "display_predictions('Naive Bayes', test_data, NB_test_y_pred)"
   ]
  },
  {
   "cell_type": "markdown",
   "metadata": {},
   "source": [
    "### Save output to csv (optional)\n",
    "After you're done save your output to the 'classification_results.csv' csv file.<br/>\n",
    "We assume that the dataframe with your results contain the following columns:\n",
    "* column 1 (left column): 'test_example_id'  - the same id associated to each of the test stories to be predicted.\n",
    "* column 2 (right column): 'predicted_category' - the predicted gender value for each of the associated story. \n",
    "\n",
    "Assuming your predicted values are in the `df_predicted` dataframe, you should save you're results as following:"
   ]
  },
  {
   "cell_type": "code",
   "execution_count": null,
   "metadata": {
    "scrolled": true
   },
   "outputs": [],
   "source": []
  },
  {
   "cell_type": "code",
   "execution_count": null,
   "metadata": {},
   "outputs": [],
   "source": []
  }
 ],
 "metadata": {
  "celltoolbar": "Create Assignment",
  "kernelspec": {
   "display_name": "Python 3 (ipykernel)",
   "language": "python",
   "name": "python3"
  },
  "language_info": {
   "codemirror_mode": {
    "name": "ipython",
    "version": 3
   },
   "file_extension": ".py",
   "mimetype": "text/x-python",
   "name": "python",
   "nbconvert_exporter": "python",
   "pygments_lexer": "ipython3",
   "version": "3.9.13"
  }
 },
 "nbformat": 4,
 "nbformat_minor": 4
}
